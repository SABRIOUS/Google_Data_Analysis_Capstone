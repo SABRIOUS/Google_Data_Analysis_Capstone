{
 "cells": [
  {
   "cell_type": "markdown",
   "metadata": {},
   "source": [
    "### Case Study 1: How Does a Bike-Share Navigate Speedy Success?"
   ]
  },
  {
   "cell_type": "code",
   "execution_count": 1,
   "metadata": {},
   "outputs": [],
   "source": [
    "import glob\n",
    "import pandas as pd\n",
    "import matplotlib.pyplot as plt\n",
    "import seaborn as sns\n",
    "import numpy as np\n",
    "%matplotlib inline\n",
    "sns.set()"
   ]
  },
  {
   "cell_type": "code",
   "execution_count": 2,
   "metadata": {},
   "outputs": [],
   "source": [
    "# this function read csv\n",
    "def get_csv(file):\n",
    "    data = pd.read_csv(file)\n",
    "    return data"
   ]
  },
  {
   "cell_type": "code",
   "execution_count": 3,
   "metadata": {},
   "outputs": [],
   "source": [
    "col=['ride_id','rideable_type','started_at','ended_at','start_station_name','start_station_id','end_station_name'\\\n",
    "                                               ,'end_station_id','start_lat','start_lng','end_lat','end_lng','member_casual']"
   ]
  },
  {
   "cell_type": "code",
   "execution_count": 4,
   "metadata": {},
   "outputs": [],
   "source": [
    "# extract all csv files into one csv file\n",
    "def extract():\n",
    "    extracted_data = pd.DataFrame(columns=col)\n",
    "    all_files = glob.glob( \"*.csv\")\n",
    "    for csv in all_files:\n",
    "        extracted_data = extracted_data.append(get_csv(csv), ignore_index=True)\n",
    "        \n",
    "        \n",
    "    return extracted_data"
   ]
  },
  {
   "cell_type": "code",
   "execution_count": 5,
   "metadata": {},
   "outputs": [],
   "source": [
    "# add variable that hold the data fram\n",
    "df_bikes_2020 = extract()"
   ]
  },
  {
   "cell_type": "code",
   "execution_count": 6,
   "metadata": {},
   "outputs": [
    {
     "data": {
      "text/html": [
       "<div>\n",
       "<style scoped>\n",
       "    .dataframe tbody tr th:only-of-type {\n",
       "        vertical-align: middle;\n",
       "    }\n",
       "\n",
       "    .dataframe tbody tr th {\n",
       "        vertical-align: top;\n",
       "    }\n",
       "\n",
       "    .dataframe thead th {\n",
       "        text-align: right;\n",
       "    }\n",
       "</style>\n",
       "<table border=\"1\" class=\"dataframe\">\n",
       "  <thead>\n",
       "    <tr style=\"text-align: right;\">\n",
       "      <th></th>\n",
       "      <th>ride_id</th>\n",
       "      <th>rideable_type</th>\n",
       "      <th>started_at</th>\n",
       "      <th>ended_at</th>\n",
       "      <th>start_station_name</th>\n",
       "      <th>start_station_id</th>\n",
       "      <th>end_station_name</th>\n",
       "      <th>end_station_id</th>\n",
       "      <th>start_lat</th>\n",
       "      <th>start_lng</th>\n",
       "      <th>end_lat</th>\n",
       "      <th>end_lng</th>\n",
       "      <th>member_casual</th>\n",
       "    </tr>\n",
       "  </thead>\n",
       "  <tbody>\n",
       "    <tr>\n",
       "      <th>0</th>\n",
       "      <td>ACB6B40CF5B9044C</td>\n",
       "      <td>electric_bike</td>\n",
       "      <td>2020-10-31 19:39:43</td>\n",
       "      <td>2020-10-31 19:57:12</td>\n",
       "      <td>Lakeview Ave &amp; Fullerton Pkwy</td>\n",
       "      <td>313</td>\n",
       "      <td>Rush St &amp; Hubbard St</td>\n",
       "      <td>125</td>\n",
       "      <td>41.926101</td>\n",
       "      <td>-87.638977</td>\n",
       "      <td>41.890345</td>\n",
       "      <td>-87.626068</td>\n",
       "      <td>casual</td>\n",
       "    </tr>\n",
       "    <tr>\n",
       "      <th>1</th>\n",
       "      <td>DF450C72FD109C01</td>\n",
       "      <td>electric_bike</td>\n",
       "      <td>2020-10-31 23:50:08</td>\n",
       "      <td>2020-11-01 00:04:16</td>\n",
       "      <td>Southport Ave &amp; Waveland Ave</td>\n",
       "      <td>227</td>\n",
       "      <td>Kedzie Ave &amp; Milwaukee Ave</td>\n",
       "      <td>260</td>\n",
       "      <td>41.948172</td>\n",
       "      <td>-87.663911</td>\n",
       "      <td>41.929528</td>\n",
       "      <td>-87.707818</td>\n",
       "      <td>casual</td>\n",
       "    </tr>\n",
       "    <tr>\n",
       "      <th>2</th>\n",
       "      <td>B6396B54A15AC0DF</td>\n",
       "      <td>electric_bike</td>\n",
       "      <td>2020-10-31 23:00:01</td>\n",
       "      <td>2020-10-31 23:08:22</td>\n",
       "      <td>Stony Island Ave &amp; 67th St</td>\n",
       "      <td>102</td>\n",
       "      <td>University Ave &amp; 57th St</td>\n",
       "      <td>423</td>\n",
       "      <td>41.773462</td>\n",
       "      <td>-87.585372</td>\n",
       "      <td>41.791455</td>\n",
       "      <td>-87.600050</td>\n",
       "      <td>casual</td>\n",
       "    </tr>\n",
       "    <tr>\n",
       "      <th>3</th>\n",
       "      <td>44A4AEE261B9E854</td>\n",
       "      <td>electric_bike</td>\n",
       "      <td>2020-10-31 22:16:43</td>\n",
       "      <td>2020-10-31 22:19:35</td>\n",
       "      <td>Clark St &amp; Grace St</td>\n",
       "      <td>165</td>\n",
       "      <td>Broadway &amp; Sheridan Rd</td>\n",
       "      <td>256</td>\n",
       "      <td>41.950855</td>\n",
       "      <td>-87.659244</td>\n",
       "      <td>41.952809</td>\n",
       "      <td>-87.650103</td>\n",
       "      <td>casual</td>\n",
       "    </tr>\n",
       "    <tr>\n",
       "      <th>4</th>\n",
       "      <td>10B7DD76A6A2EB95</td>\n",
       "      <td>electric_bike</td>\n",
       "      <td>2020-10-31 19:38:19</td>\n",
       "      <td>2020-10-31 19:54:32</td>\n",
       "      <td>Southport Ave &amp; Wrightwood Ave</td>\n",
       "      <td>190</td>\n",
       "      <td>Stave St &amp; Armitage Ave</td>\n",
       "      <td>185</td>\n",
       "      <td>41.928857</td>\n",
       "      <td>-87.663962</td>\n",
       "      <td>41.917777</td>\n",
       "      <td>-87.691434</td>\n",
       "      <td>casual</td>\n",
       "    </tr>\n",
       "  </tbody>\n",
       "</table>\n",
       "</div>"
      ],
      "text/plain": [
       "            ride_id  rideable_type           started_at             ended_at  \\\n",
       "0  ACB6B40CF5B9044C  electric_bike  2020-10-31 19:39:43  2020-10-31 19:57:12   \n",
       "1  DF450C72FD109C01  electric_bike  2020-10-31 23:50:08  2020-11-01 00:04:16   \n",
       "2  B6396B54A15AC0DF  electric_bike  2020-10-31 23:00:01  2020-10-31 23:08:22   \n",
       "3  44A4AEE261B9E854  electric_bike  2020-10-31 22:16:43  2020-10-31 22:19:35   \n",
       "4  10B7DD76A6A2EB95  electric_bike  2020-10-31 19:38:19  2020-10-31 19:54:32   \n",
       "\n",
       "               start_station_name start_station_id  \\\n",
       "0   Lakeview Ave & Fullerton Pkwy              313   \n",
       "1    Southport Ave & Waveland Ave              227   \n",
       "2      Stony Island Ave & 67th St              102   \n",
       "3             Clark St & Grace St              165   \n",
       "4  Southport Ave & Wrightwood Ave              190   \n",
       "\n",
       "             end_station_name end_station_id  start_lat  start_lng    end_lat  \\\n",
       "0        Rush St & Hubbard St            125  41.926101 -87.638977  41.890345   \n",
       "1  Kedzie Ave & Milwaukee Ave            260  41.948172 -87.663911  41.929528   \n",
       "2    University Ave & 57th St            423  41.773462 -87.585372  41.791455   \n",
       "3      Broadway & Sheridan Rd            256  41.950855 -87.659244  41.952809   \n",
       "4     Stave St & Armitage Ave            185  41.928857 -87.663962  41.917777   \n",
       "\n",
       "     end_lng member_casual  \n",
       "0 -87.626068        casual  \n",
       "1 -87.707818        casual  \n",
       "2 -87.600050        casual  \n",
       "3 -87.650103        casual  \n",
       "4 -87.691434        casual  "
      ]
     },
     "execution_count": 6,
     "metadata": {},
     "output_type": "execute_result"
    }
   ],
   "source": [
    "df_bikes_2020.head()"
   ]
  },
  {
   "cell_type": "code",
   "execution_count": 7,
   "metadata": {},
   "outputs": [
    {
     "name": "stdout",
     "output_type": "stream",
     "text": [
      "<class 'pandas.core.frame.DataFrame'>\n",
      "RangeIndex: 3456907 entries, 0 to 3456906\n",
      "Data columns (total 13 columns):\n",
      " #   Column              Dtype  \n",
      "---  ------              -----  \n",
      " 0   ride_id             object \n",
      " 1   rideable_type       object \n",
      " 2   started_at          object \n",
      " 3   ended_at            object \n",
      " 4   start_station_name  object \n",
      " 5   start_station_id    object \n",
      " 6   end_station_name    object \n",
      " 7   end_station_id      object \n",
      " 8   start_lat           float64\n",
      " 9   start_lng           float64\n",
      " 10  end_lat             float64\n",
      " 11  end_lng             float64\n",
      " 12  member_casual       object \n",
      "dtypes: float64(4), object(9)\n",
      "memory usage: 342.9+ MB\n"
     ]
    }
   ],
   "source": [
    "#using .info to get all information about the data\n",
    "df_bikes_2020.info()"
   ]
  },
  {
   "cell_type": "code",
   "execution_count": 8,
   "metadata": {},
   "outputs": [],
   "source": [
    "# started_at ,ended_at  should be datatime needs to be converted\n",
    "df_bikes_2020['started_at'] = pd.to_datetime(df_bikes_2020['started_at'])\n",
    "df_bikes_2020['ended_at'] = pd.to_datetime(df_bikes_2020['ended_at'])"
   ]
  },
  {
   "cell_type": "code",
   "execution_count": 9,
   "metadata": {},
   "outputs": [
    {
     "name": "stdout",
     "output_type": "stream",
     "text": [
      "<class 'pandas.core.frame.DataFrame'>\n",
      "RangeIndex: 3456907 entries, 0 to 3456906\n",
      "Data columns (total 13 columns):\n",
      " #   Column              Dtype         \n",
      "---  ------              -----         \n",
      " 0   ride_id             object        \n",
      " 1   rideable_type       object        \n",
      " 2   started_at          datetime64[ns]\n",
      " 3   ended_at            datetime64[ns]\n",
      " 4   start_station_name  object        \n",
      " 5   start_station_id    object        \n",
      " 6   end_station_name    object        \n",
      " 7   end_station_id      object        \n",
      " 8   start_lat           float64       \n",
      " 9   start_lng           float64       \n",
      " 10  end_lat             float64       \n",
      " 11  end_lng             float64       \n",
      " 12  member_casual       object        \n",
      "dtypes: datetime64[ns](2), float64(4), object(7)\n",
      "memory usage: 342.9+ MB\n"
     ]
    }
   ],
   "source": [
    "# check again for data types\n",
    "df_bikes_2020.info()"
   ]
  },
  {
   "cell_type": "code",
   "execution_count": 10,
   "metadata": {},
   "outputs": [
    {
     "data": {
      "text/plain": [
       "0"
      ]
     },
     "execution_count": 10,
     "metadata": {},
     "output_type": "execute_result"
    }
   ],
   "source": [
    "#check if there a duplicated values\n",
    "sum(df_bikes_2020.duplicated())"
   ]
  },
  {
   "cell_type": "code",
   "execution_count": 11,
   "metadata": {},
   "outputs": [
    {
     "data": {
      "text/plain": [
       "ride_id                    0\n",
       "rideable_type              0\n",
       "started_at                 0\n",
       "ended_at                   0\n",
       "start_station_name     94656\n",
       "start_station_id       95282\n",
       "end_station_name      110782\n",
       "end_station_id        111243\n",
       "start_lat                  0\n",
       "start_lng                  0\n",
       "end_lat                 4156\n",
       "end_lng                 4156\n",
       "member_casual              0\n",
       "dtype: int64"
      ]
     },
     "execution_count": 11,
     "metadata": {},
     "output_type": "execute_result"
    }
   ],
   "source": [
    "# check for null values\n",
    "df_bikes_2020.isna().sum()"
   ]
  },
  {
   "cell_type": "code",
   "execution_count": 12,
   "metadata": {},
   "outputs": [],
   "source": [
    "# drope all null values\n",
    "df_bikes_2020.dropna(inplace=True)"
   ]
  },
  {
   "cell_type": "code",
   "execution_count": 13,
   "metadata": {
    "scrolled": true
   },
   "outputs": [
    {
     "data": {
      "text/plain": [
       "ride_id               0\n",
       "rideable_type         0\n",
       "started_at            0\n",
       "ended_at              0\n",
       "start_station_name    0\n",
       "start_station_id      0\n",
       "end_station_name      0\n",
       "end_station_id        0\n",
       "start_lat             0\n",
       "start_lng             0\n",
       "end_lat               0\n",
       "end_lng               0\n",
       "member_casual         0\n",
       "dtype: int64"
      ]
     },
     "execution_count": 13,
     "metadata": {},
     "output_type": "execute_result"
    }
   ],
   "source": [
    "# check again if there any null values\n",
    "df_bikes_2020.isna().sum()"
   ]
  },
  {
   "cell_type": "code",
   "execution_count": 14,
   "metadata": {},
   "outputs": [
    {
     "data": {
      "text/html": [
       "<div>\n",
       "<style scoped>\n",
       "    .dataframe tbody tr th:only-of-type {\n",
       "        vertical-align: middle;\n",
       "    }\n",
       "\n",
       "    .dataframe tbody tr th {\n",
       "        vertical-align: top;\n",
       "    }\n",
       "\n",
       "    .dataframe thead th {\n",
       "        text-align: right;\n",
       "    }\n",
       "</style>\n",
       "<table border=\"1\" class=\"dataframe\">\n",
       "  <thead>\n",
       "    <tr style=\"text-align: right;\">\n",
       "      <th></th>\n",
       "      <th>ride_id</th>\n",
       "      <th>rideable_type</th>\n",
       "      <th>started_at</th>\n",
       "      <th>ended_at</th>\n",
       "      <th>start_station_name</th>\n",
       "      <th>start_station_id</th>\n",
       "      <th>end_station_name</th>\n",
       "      <th>end_station_id</th>\n",
       "      <th>start_lat</th>\n",
       "      <th>start_lng</th>\n",
       "      <th>end_lat</th>\n",
       "      <th>end_lng</th>\n",
       "      <th>member_casual</th>\n",
       "    </tr>\n",
       "  </thead>\n",
       "  <tbody>\n",
       "    <tr>\n",
       "      <th>0</th>\n",
       "      <td>ACB6B40CF5B9044C</td>\n",
       "      <td>electric_bike</td>\n",
       "      <td>2020-10-31 19:39:43</td>\n",
       "      <td>2020-10-31 19:57:12</td>\n",
       "      <td>Lakeview Ave &amp; Fullerton Pkwy</td>\n",
       "      <td>313</td>\n",
       "      <td>Rush St &amp; Hubbard St</td>\n",
       "      <td>125</td>\n",
       "      <td>41.926101</td>\n",
       "      <td>-87.638977</td>\n",
       "      <td>41.890345</td>\n",
       "      <td>-87.626068</td>\n",
       "      <td>casual</td>\n",
       "    </tr>\n",
       "    <tr>\n",
       "      <th>1</th>\n",
       "      <td>DF450C72FD109C01</td>\n",
       "      <td>electric_bike</td>\n",
       "      <td>2020-10-31 23:50:08</td>\n",
       "      <td>2020-11-01 00:04:16</td>\n",
       "      <td>Southport Ave &amp; Waveland Ave</td>\n",
       "      <td>227</td>\n",
       "      <td>Kedzie Ave &amp; Milwaukee Ave</td>\n",
       "      <td>260</td>\n",
       "      <td>41.948172</td>\n",
       "      <td>-87.663911</td>\n",
       "      <td>41.929528</td>\n",
       "      <td>-87.707818</td>\n",
       "      <td>casual</td>\n",
       "    </tr>\n",
       "    <tr>\n",
       "      <th>2</th>\n",
       "      <td>B6396B54A15AC0DF</td>\n",
       "      <td>electric_bike</td>\n",
       "      <td>2020-10-31 23:00:01</td>\n",
       "      <td>2020-10-31 23:08:22</td>\n",
       "      <td>Stony Island Ave &amp; 67th St</td>\n",
       "      <td>102</td>\n",
       "      <td>University Ave &amp; 57th St</td>\n",
       "      <td>423</td>\n",
       "      <td>41.773462</td>\n",
       "      <td>-87.585372</td>\n",
       "      <td>41.791455</td>\n",
       "      <td>-87.600050</td>\n",
       "      <td>casual</td>\n",
       "    </tr>\n",
       "    <tr>\n",
       "      <th>3</th>\n",
       "      <td>44A4AEE261B9E854</td>\n",
       "      <td>electric_bike</td>\n",
       "      <td>2020-10-31 22:16:43</td>\n",
       "      <td>2020-10-31 22:19:35</td>\n",
       "      <td>Clark St &amp; Grace St</td>\n",
       "      <td>165</td>\n",
       "      <td>Broadway &amp; Sheridan Rd</td>\n",
       "      <td>256</td>\n",
       "      <td>41.950855</td>\n",
       "      <td>-87.659244</td>\n",
       "      <td>41.952809</td>\n",
       "      <td>-87.650103</td>\n",
       "      <td>casual</td>\n",
       "    </tr>\n",
       "    <tr>\n",
       "      <th>4</th>\n",
       "      <td>10B7DD76A6A2EB95</td>\n",
       "      <td>electric_bike</td>\n",
       "      <td>2020-10-31 19:38:19</td>\n",
       "      <td>2020-10-31 19:54:32</td>\n",
       "      <td>Southport Ave &amp; Wrightwood Ave</td>\n",
       "      <td>190</td>\n",
       "      <td>Stave St &amp; Armitage Ave</td>\n",
       "      <td>185</td>\n",
       "      <td>41.928857</td>\n",
       "      <td>-87.663962</td>\n",
       "      <td>41.917777</td>\n",
       "      <td>-87.691434</td>\n",
       "      <td>casual</td>\n",
       "    </tr>\n",
       "  </tbody>\n",
       "</table>\n",
       "</div>"
      ],
      "text/plain": [
       "            ride_id  rideable_type          started_at            ended_at  \\\n",
       "0  ACB6B40CF5B9044C  electric_bike 2020-10-31 19:39:43 2020-10-31 19:57:12   \n",
       "1  DF450C72FD109C01  electric_bike 2020-10-31 23:50:08 2020-11-01 00:04:16   \n",
       "2  B6396B54A15AC0DF  electric_bike 2020-10-31 23:00:01 2020-10-31 23:08:22   \n",
       "3  44A4AEE261B9E854  electric_bike 2020-10-31 22:16:43 2020-10-31 22:19:35   \n",
       "4  10B7DD76A6A2EB95  electric_bike 2020-10-31 19:38:19 2020-10-31 19:54:32   \n",
       "\n",
       "               start_station_name start_station_id  \\\n",
       "0   Lakeview Ave & Fullerton Pkwy              313   \n",
       "1    Southport Ave & Waveland Ave              227   \n",
       "2      Stony Island Ave & 67th St              102   \n",
       "3             Clark St & Grace St              165   \n",
       "4  Southport Ave & Wrightwood Ave              190   \n",
       "\n",
       "             end_station_name end_station_id  start_lat  start_lng    end_lat  \\\n",
       "0        Rush St & Hubbard St            125  41.926101 -87.638977  41.890345   \n",
       "1  Kedzie Ave & Milwaukee Ave            260  41.948172 -87.663911  41.929528   \n",
       "2    University Ave & 57th St            423  41.773462 -87.585372  41.791455   \n",
       "3      Broadway & Sheridan Rd            256  41.950855 -87.659244  41.952809   \n",
       "4     Stave St & Armitage Ave            185  41.928857 -87.663962  41.917777   \n",
       "\n",
       "     end_lng member_casual  \n",
       "0 -87.626068        casual  \n",
       "1 -87.707818        casual  \n",
       "2 -87.600050        casual  \n",
       "3 -87.650103        casual  \n",
       "4 -87.691434        casual  "
      ]
     },
     "execution_count": 14,
     "metadata": {},
     "output_type": "execute_result"
    }
   ],
   "source": [
    "df_bikes_2020.head()"
   ]
  },
  {
   "cell_type": "code",
   "execution_count": 15,
   "metadata": {},
   "outputs": [],
   "source": [
    "# add new column that will calcualte the minutes for every ride\n",
    "df_bikes_2020['ride_length'] = abs(df_bikes_2020['ended_at'].dt.minute - df_bikes_2020['started_at'].dt.minute)"
   ]
  },
  {
   "cell_type": "code",
   "execution_count": 16,
   "metadata": {},
   "outputs": [],
   "source": [
    "# add a column for a month\n",
    "df_bikes_2020['month'] = df_bikes_2020['started_at'].dt.month_name()"
   ]
  },
  {
   "cell_type": "code",
   "execution_count": 17,
   "metadata": {},
   "outputs": [],
   "source": [
    "# add a column for day name\n",
    "df_bikes_2020['day_name'] = df_bikes_2020['started_at'].dt.day_name()"
   ]
  },
  {
   "cell_type": "code",
   "execution_count": 18,
   "metadata": {},
   "outputs": [],
   "source": [
    "# add start and end stations name together it will be useful for visualizing\n",
    "df_bikes_2020['startName_endName'] = df_bikes_2020['start_station_name']+\":\"+df_bikes_2020['end_station_name']"
   ]
  },
  {
   "cell_type": "code",
   "execution_count": 19,
   "metadata": {},
   "outputs": [
    {
     "data": {
      "text/html": [
       "<div>\n",
       "<style scoped>\n",
       "    .dataframe tbody tr th:only-of-type {\n",
       "        vertical-align: middle;\n",
       "    }\n",
       "\n",
       "    .dataframe tbody tr th {\n",
       "        vertical-align: top;\n",
       "    }\n",
       "\n",
       "    .dataframe thead th {\n",
       "        text-align: right;\n",
       "    }\n",
       "</style>\n",
       "<table border=\"1\" class=\"dataframe\">\n",
       "  <thead>\n",
       "    <tr style=\"text-align: right;\">\n",
       "      <th></th>\n",
       "      <th>ride_id</th>\n",
       "      <th>rideable_type</th>\n",
       "      <th>started_at</th>\n",
       "      <th>ended_at</th>\n",
       "      <th>start_station_name</th>\n",
       "      <th>start_station_id</th>\n",
       "      <th>end_station_name</th>\n",
       "      <th>end_station_id</th>\n",
       "      <th>start_lat</th>\n",
       "      <th>start_lng</th>\n",
       "      <th>end_lat</th>\n",
       "      <th>end_lng</th>\n",
       "      <th>member_casual</th>\n",
       "      <th>ride_length</th>\n",
       "      <th>month</th>\n",
       "      <th>day_name</th>\n",
       "      <th>startName_endName</th>\n",
       "    </tr>\n",
       "  </thead>\n",
       "  <tbody>\n",
       "    <tr>\n",
       "      <th>0</th>\n",
       "      <td>ACB6B40CF5B9044C</td>\n",
       "      <td>electric_bike</td>\n",
       "      <td>2020-10-31 19:39:43</td>\n",
       "      <td>2020-10-31 19:57:12</td>\n",
       "      <td>Lakeview Ave &amp; Fullerton Pkwy</td>\n",
       "      <td>313</td>\n",
       "      <td>Rush St &amp; Hubbard St</td>\n",
       "      <td>125</td>\n",
       "      <td>41.926101</td>\n",
       "      <td>-87.638977</td>\n",
       "      <td>41.890345</td>\n",
       "      <td>-87.626068</td>\n",
       "      <td>casual</td>\n",
       "      <td>18</td>\n",
       "      <td>October</td>\n",
       "      <td>Saturday</td>\n",
       "      <td>Lakeview Ave &amp; Fullerton Pkwy:Rush St &amp; Hubbar...</td>\n",
       "    </tr>\n",
       "    <tr>\n",
       "      <th>1</th>\n",
       "      <td>DF450C72FD109C01</td>\n",
       "      <td>electric_bike</td>\n",
       "      <td>2020-10-31 23:50:08</td>\n",
       "      <td>2020-11-01 00:04:16</td>\n",
       "      <td>Southport Ave &amp; Waveland Ave</td>\n",
       "      <td>227</td>\n",
       "      <td>Kedzie Ave &amp; Milwaukee Ave</td>\n",
       "      <td>260</td>\n",
       "      <td>41.948172</td>\n",
       "      <td>-87.663911</td>\n",
       "      <td>41.929528</td>\n",
       "      <td>-87.707818</td>\n",
       "      <td>casual</td>\n",
       "      <td>46</td>\n",
       "      <td>October</td>\n",
       "      <td>Saturday</td>\n",
       "      <td>Southport Ave &amp; Waveland Ave:Kedzie Ave &amp; Milw...</td>\n",
       "    </tr>\n",
       "    <tr>\n",
       "      <th>2</th>\n",
       "      <td>B6396B54A15AC0DF</td>\n",
       "      <td>electric_bike</td>\n",
       "      <td>2020-10-31 23:00:01</td>\n",
       "      <td>2020-10-31 23:08:22</td>\n",
       "      <td>Stony Island Ave &amp; 67th St</td>\n",
       "      <td>102</td>\n",
       "      <td>University Ave &amp; 57th St</td>\n",
       "      <td>423</td>\n",
       "      <td>41.773462</td>\n",
       "      <td>-87.585372</td>\n",
       "      <td>41.791455</td>\n",
       "      <td>-87.600050</td>\n",
       "      <td>casual</td>\n",
       "      <td>8</td>\n",
       "      <td>October</td>\n",
       "      <td>Saturday</td>\n",
       "      <td>Stony Island Ave &amp; 67th St:University Ave &amp; 57...</td>\n",
       "    </tr>\n",
       "    <tr>\n",
       "      <th>3</th>\n",
       "      <td>44A4AEE261B9E854</td>\n",
       "      <td>electric_bike</td>\n",
       "      <td>2020-10-31 22:16:43</td>\n",
       "      <td>2020-10-31 22:19:35</td>\n",
       "      <td>Clark St &amp; Grace St</td>\n",
       "      <td>165</td>\n",
       "      <td>Broadway &amp; Sheridan Rd</td>\n",
       "      <td>256</td>\n",
       "      <td>41.950855</td>\n",
       "      <td>-87.659244</td>\n",
       "      <td>41.952809</td>\n",
       "      <td>-87.650103</td>\n",
       "      <td>casual</td>\n",
       "      <td>3</td>\n",
       "      <td>October</td>\n",
       "      <td>Saturday</td>\n",
       "      <td>Clark St &amp; Grace St:Broadway &amp; Sheridan Rd</td>\n",
       "    </tr>\n",
       "    <tr>\n",
       "      <th>4</th>\n",
       "      <td>10B7DD76A6A2EB95</td>\n",
       "      <td>electric_bike</td>\n",
       "      <td>2020-10-31 19:38:19</td>\n",
       "      <td>2020-10-31 19:54:32</td>\n",
       "      <td>Southport Ave &amp; Wrightwood Ave</td>\n",
       "      <td>190</td>\n",
       "      <td>Stave St &amp; Armitage Ave</td>\n",
       "      <td>185</td>\n",
       "      <td>41.928857</td>\n",
       "      <td>-87.663962</td>\n",
       "      <td>41.917777</td>\n",
       "      <td>-87.691434</td>\n",
       "      <td>casual</td>\n",
       "      <td>16</td>\n",
       "      <td>October</td>\n",
       "      <td>Saturday</td>\n",
       "      <td>Southport Ave &amp; Wrightwood Ave:Stave St &amp; Armi...</td>\n",
       "    </tr>\n",
       "  </tbody>\n",
       "</table>\n",
       "</div>"
      ],
      "text/plain": [
       "            ride_id  rideable_type          started_at            ended_at  \\\n",
       "0  ACB6B40CF5B9044C  electric_bike 2020-10-31 19:39:43 2020-10-31 19:57:12   \n",
       "1  DF450C72FD109C01  electric_bike 2020-10-31 23:50:08 2020-11-01 00:04:16   \n",
       "2  B6396B54A15AC0DF  electric_bike 2020-10-31 23:00:01 2020-10-31 23:08:22   \n",
       "3  44A4AEE261B9E854  electric_bike 2020-10-31 22:16:43 2020-10-31 22:19:35   \n",
       "4  10B7DD76A6A2EB95  electric_bike 2020-10-31 19:38:19 2020-10-31 19:54:32   \n",
       "\n",
       "               start_station_name start_station_id  \\\n",
       "0   Lakeview Ave & Fullerton Pkwy              313   \n",
       "1    Southport Ave & Waveland Ave              227   \n",
       "2      Stony Island Ave & 67th St              102   \n",
       "3             Clark St & Grace St              165   \n",
       "4  Southport Ave & Wrightwood Ave              190   \n",
       "\n",
       "             end_station_name end_station_id  start_lat  start_lng    end_lat  \\\n",
       "0        Rush St & Hubbard St            125  41.926101 -87.638977  41.890345   \n",
       "1  Kedzie Ave & Milwaukee Ave            260  41.948172 -87.663911  41.929528   \n",
       "2    University Ave & 57th St            423  41.773462 -87.585372  41.791455   \n",
       "3      Broadway & Sheridan Rd            256  41.950855 -87.659244  41.952809   \n",
       "4     Stave St & Armitage Ave            185  41.928857 -87.663962  41.917777   \n",
       "\n",
       "     end_lng member_casual  ride_length    month  day_name  \\\n",
       "0 -87.626068        casual           18  October  Saturday   \n",
       "1 -87.707818        casual           46  October  Saturday   \n",
       "2 -87.600050        casual            8  October  Saturday   \n",
       "3 -87.650103        casual            3  October  Saturday   \n",
       "4 -87.691434        casual           16  October  Saturday   \n",
       "\n",
       "                                   startName_endName  \n",
       "0  Lakeview Ave & Fullerton Pkwy:Rush St & Hubbar...  \n",
       "1  Southport Ave & Waveland Ave:Kedzie Ave & Milw...  \n",
       "2  Stony Island Ave & 67th St:University Ave & 57...  \n",
       "3         Clark St & Grace St:Broadway & Sheridan Rd  \n",
       "4  Southport Ave & Wrightwood Ave:Stave St & Armi...  "
      ]
     },
     "execution_count": 19,
     "metadata": {},
     "output_type": "execute_result"
    }
   ],
   "source": [
    "df_bikes_2020.head()"
   ]
  },
  {
   "cell_type": "markdown",
   "metadata": {},
   "source": [
    "- team will design a new marketing strategy to convert casual riders into annual members. \n",
    "- But first, Cyclistic executives must approve your recommendations, \n",
    "- so they must be backed up with compelling data insights and professional data visualizations.\n",
    "- we want to understand the structure of riders\n",
    "#### what is the percentage for casual,annual memeber ?"
   ]
  },
  {
   "cell_type": "code",
   "execution_count": 20,
   "metadata": {},
   "outputs": [],
   "source": [
    "#get percentage for casual and member\n",
    "percentage_casual = round(df_bikes_2020[df_bikes_2020['member_casual']=='casual'].shape[0]/df_bikes_2020.shape[0],2)\n",
    "percentage_member = round(df_bikes_2020[df_bikes_2020['member_casual']=='member'].shape[0]/df_bikes_2020.shape[0],2)"
   ]
  },
  {
   "cell_type": "code",
   "execution_count": 21,
   "metadata": {},
   "outputs": [
    {
     "data": {
      "image/png": "[encoded data removed]",
      "text/plain": [
       "<Figure size 432x288 with 1 Axes>"
      ]
     },
     "metadata": {},
     "output_type": "display_data"
    }
   ],
   "source": [
    "slice = [percentage_casual,percentage_member]\n",
    "labels = ['Casual','Member']\n",
    "explode = [0.07,0]\n",
    "plt.pie(slice,labels = labels,explode=explode,autopct='%1.0f%%')\n",
    "plt.title(\"Casual Vs Member\")\n",
    "plt.show()"
   ]
  },
  {
   "cell_type": "markdown",
   "metadata": {},
   "source": [
    "- the percentage of causal is 39% and the member is 61%\n",
    "- How customers use our bikes and which stations have the highest percentage of riders?\n",
    "- what is most common days for ridders?\n",
    "- what are the maximum, minimum, and average trip durations?\n",
    "- what is the percentage of a rideable type for casual and member riders?"
   ]
  },
  {
   "cell_type": "markdown",
   "metadata": {},
   "source": [
    "-----------------------------"
   ]
  },
  {
   "cell_type": "code",
   "execution_count": 22,
   "metadata": {},
   "outputs": [],
   "source": [
    "# let's a slice for member and casual\n",
    "df_casual = df_bikes_2020[df_bikes_2020['member_casual']=='casual'].copy()\n",
    "df_member = df_bikes_2020[df_bikes_2020['member_casual']=='member'].copy()"
   ]
  },
  {
   "cell_type": "code",
   "execution_count": 23,
   "metadata": {
    "scrolled": true
   },
   "outputs": [
    {
     "data": {
      "text/html": [
       "<div>\n",
       "<style scoped>\n",
       "    .dataframe tbody tr th:only-of-type {\n",
       "        vertical-align: middle;\n",
       "    }\n",
       "\n",
       "    .dataframe tbody tr th {\n",
       "        vertical-align: top;\n",
       "    }\n",
       "\n",
       "    .dataframe thead th {\n",
       "        text-align: right;\n",
       "    }\n",
       "</style>\n",
       "<table border=\"1\" class=\"dataframe\">\n",
       "  <thead>\n",
       "    <tr style=\"text-align: right;\">\n",
       "      <th></th>\n",
       "      <th>ride_id</th>\n",
       "      <th>rideable_type</th>\n",
       "      <th>started_at</th>\n",
       "      <th>ended_at</th>\n",
       "      <th>start_station_name</th>\n",
       "      <th>start_station_id</th>\n",
       "      <th>end_station_name</th>\n",
       "      <th>end_station_id</th>\n",
       "      <th>start_lat</th>\n",
       "      <th>start_lng</th>\n",
       "      <th>end_lat</th>\n",
       "      <th>end_lng</th>\n",
       "      <th>member_casual</th>\n",
       "      <th>ride_length</th>\n",
       "      <th>month</th>\n",
       "      <th>day_name</th>\n",
       "      <th>startName_endName</th>\n",
       "    </tr>\n",
       "  </thead>\n",
       "  <tbody>\n",
       "    <tr>\n",
       "      <th>0</th>\n",
       "      <td>ACB6B40CF5B9044C</td>\n",
       "      <td>electric_bike</td>\n",
       "      <td>2020-10-31 19:39:43</td>\n",
       "      <td>2020-10-31 19:57:12</td>\n",
       "      <td>Lakeview Ave &amp; Fullerton Pkwy</td>\n",
       "      <td>313</td>\n",
       "      <td>Rush St &amp; Hubbard St</td>\n",
       "      <td>125</td>\n",
       "      <td>41.926101</td>\n",
       "      <td>-87.638977</td>\n",
       "      <td>41.890345</td>\n",
       "      <td>-87.626068</td>\n",
       "      <td>casual</td>\n",
       "      <td>18</td>\n",
       "      <td>October</td>\n",
       "      <td>Saturday</td>\n",
       "      <td>Lakeview Ave &amp; Fullerton Pkwy:Rush St &amp; Hubbar...</td>\n",
       "    </tr>\n",
       "    <tr>\n",
       "      <th>1</th>\n",
       "      <td>DF450C72FD109C01</td>\n",
       "      <td>electric_bike</td>\n",
       "      <td>2020-10-31 23:50:08</td>\n",
       "      <td>2020-11-01 00:04:16</td>\n",
       "      <td>Southport Ave &amp; Waveland Ave</td>\n",
       "      <td>227</td>\n",
       "      <td>Kedzie Ave &amp; Milwaukee Ave</td>\n",
       "      <td>260</td>\n",
       "      <td>41.948172</td>\n",
       "      <td>-87.663911</td>\n",
       "      <td>41.929528</td>\n",
       "      <td>-87.707818</td>\n",
       "      <td>casual</td>\n",
       "      <td>46</td>\n",
       "      <td>October</td>\n",
       "      <td>Saturday</td>\n",
       "      <td>Southport Ave &amp; Waveland Ave:Kedzie Ave &amp; Milw...</td>\n",
       "    </tr>\n",
       "  </tbody>\n",
       "</table>\n",
       "</div>"
      ],
      "text/plain": [
       "            ride_id  rideable_type          started_at            ended_at  \\\n",
       "0  ACB6B40CF5B9044C  electric_bike 2020-10-31 19:39:43 2020-10-31 19:57:12   \n",
       "1  DF450C72FD109C01  electric_bike 2020-10-31 23:50:08 2020-11-01 00:04:16   \n",
       "\n",
       "              start_station_name start_station_id            end_station_name  \\\n",
       "0  Lakeview Ave & Fullerton Pkwy              313        Rush St & Hubbard St   \n",
       "1   Southport Ave & Waveland Ave              227  Kedzie Ave & Milwaukee Ave   \n",
       "\n",
       "  end_station_id  start_lat  start_lng    end_lat    end_lng member_casual  \\\n",
       "0            125  41.926101 -87.638977  41.890345 -87.626068        casual   \n",
       "1            260  41.948172 -87.663911  41.929528 -87.707818        casual   \n",
       "\n",
       "   ride_length    month  day_name  \\\n",
       "0           18  October  Saturday   \n",
       "1           46  October  Saturday   \n",
       "\n",
       "                                   startName_endName  \n",
       "0  Lakeview Ave & Fullerton Pkwy:Rush St & Hubbar...  \n",
       "1  Southport Ave & Waveland Ave:Kedzie Ave & Milw...  "
      ]
     },
     "execution_count": 23,
     "metadata": {},
     "output_type": "execute_result"
    }
   ],
   "source": [
    "df_casual.head(2)"
   ]
  },
  {
   "cell_type": "markdown",
   "metadata": {},
   "source": [
    "## Casual summary Statistics"
   ]
  },
  {
   "cell_type": "code",
   "execution_count": 116,
   "metadata": {},
   "outputs": [
    {
     "name": "stdout",
     "output_type": "stream",
     "text": [
      "The most common start stations is: Streeter Dr & Grand Ave\n",
      "-----\n",
      "The most common end stations is: Streeter Dr & Grand Ave\n",
      "-----\n",
      "The most common start and end stations together are : Streeter Dr & Grand Ave:Streeter Dr & Grand Ave\n",
      "-----\n",
      "The average ride length for casual is 20.79 minutes\n",
      "-----\n",
      "The max ride length for casual is 59 minutes\n"
     ]
    }
   ],
   "source": [
    "commont_start_station = df_casual['start_station_name'].mode()[0]\n",
    "print(f\"The most common start stations is: {commont_start_station}\")\n",
    "print('-'*5)\n",
    "commont_end_station = df_casual['end_station_name'].mode()[0]\n",
    "print(f\"The most common end stations is: {commont_end_station}\")\n",
    "print('-'*5)\n",
    "start_end = df_casual['startName_endName'].mode()[0]\n",
    "print(f\"The most common start and end stations together are : {start_end}\")\n",
    "avg_ride_length = round(np.average(df_casual['ride_length']),2)\n",
    "print('-'*5)\n",
    "max_ride_length = np.max(df_casual['ride_length'])\n",
    "print(f\"The average ride length for casual is {avg_ride_length} minutes\")\n",
    "print('-'*5)\n",
    "print(f\"The max ride length for casual is {max_ride_length} minutes\")"
   ]
  },
  {
   "cell_type": "code",
   "execution_count": 134,
   "metadata": {},
   "outputs": [
    {
     "data": {
      "text/plain": [
       "August       0.221586\n",
       "July         0.210410\n",
       "September    0.168574\n",
       "June         0.120976\n",
       "October      0.096157\n",
       "May          0.067933\n",
       "November     0.057183\n",
       "March        0.021785\n",
       "December     0.019224\n",
       "February     0.010077\n",
       "January      0.006095\n",
       "Name: month, dtype: float64"
      ]
     },
     "execution_count": 134,
     "metadata": {},
     "output_type": "execute_result"
    }
   ],
   "source": [
    "df_casual['month'].value_counts()/df_casual.shape[0]"
   ]
  },
  {
   "cell_type": "code",
   "execution_count": 136,
   "metadata": {},
   "outputs": [
    {
     "name": "stdout",
     "output_type": "stream",
     "text": [
      "0.71 of casual riders use bike from june to sep \n"
     ]
    }
   ],
   "source": [
    "jun_to_sep = .22+.21+.16+.12\n",
    "print(f\"{jun_to_sep} of casual riders use bike from june to sep \")"
   ]
  },
  {
   "cell_type": "code",
   "execution_count": 98,
   "metadata": {},
   "outputs": [
    {
     "data": {
      "image/png": "[encoded data removed]",
      "text/plain": [
       "<Figure size 432x288 with 1 Axes>"
      ]
     },
     "metadata": {},
     "output_type": "display_data"
    }
   ],
   "source": [
    "#this bar graph will show us the most common month for casual riders\n",
    "(df_casual['month'].value_counts()/df_casual.shape[0]).plot(kind='bar');"
   ]
  },
  {
   "cell_type": "code",
   "execution_count": 99,
   "metadata": {},
   "outputs": [
    {
     "data": {
      "image/png": "[encoded data removed]",
      "text/plain": [
       "<Figure size 432x288 with 1 Axes>"
      ]
     },
     "metadata": {},
     "output_type": "display_data"
    }
   ],
   "source": [
    "#this bar graph will show us the most common day for casual riders\n",
    "(df_casual['day_name'].value_counts()/df_casual.shape[0]).plot(kind='bar');"
   ]
  },
  {
   "cell_type": "code",
   "execution_count": 88,
   "metadata": {},
   "outputs": [
    {
     "name": "stdout",
     "output_type": "stream",
     "text": [
      "How many different Stations in start stations 687\n",
      "How many different Stations in end stations 689\n"
     ]
    }
   ],
   "source": [
    "print('How many different Stations in start stations',df_casual['start_station_name'].nunique())\n",
    "print('How many different Stations in end stations',df_casual['end_station_name'].nunique())"
   ]
  },
  {
   "cell_type": "code",
   "execution_count": 90,
   "metadata": {},
   "outputs": [
    {
     "name": "stdout",
     "output_type": "stream",
     "text": [
      "start station percentage 0.54\n",
      "end station percentage 0.55\n"
     ]
    }
   ],
   "source": [
    "# the percentage of top 100 start stations\n",
    "print(\"start station percentage\",round(df_casual['start_station_name'].value_counts().head(100).sum()/df_casual.shape[0],2))\n",
    "# the percentage of top 100 end stations\n",
    "print(\"end station percentage\",round(df_casual['end_station_name'].value_counts().head(100).sum()/df_casual.shape[0],2))"
   ]
  },
  {
   "cell_type": "markdown",
   "metadata": {},
   "source": [
    "- The first 100 station represnt .54% of 687\n",
    "- The first 100 end represnt .54% of 689"
   ]
  },
  {
   "cell_type": "code",
   "execution_count": 102,
   "metadata": {},
   "outputs": [
    {
     "data": {
      "image/png": "[encoded data removed]",
      "text/plain": [
       "<Figure size 432x288 with 1 Axes>"
      ]
     },
     "metadata": {},
     "output_type": "display_data"
    }
   ],
   "source": [
    "(df_casual['rideable_type'].value_counts()/df_casual.shape[0]).plot(kind='bar');"
   ]
  },
  {
   "cell_type": "code",
   "execution_count": 114,
   "metadata": {},
   "outputs": [
    {
     "name": "stdout",
     "output_type": "stream",
     "text": [
      "The most common start hour 17\n",
      "The most common end hour 17\n"
     ]
    }
   ],
   "source": [
    "start_rush_hour = df_casual['started_at'].dt.hour.mode()[0]\n",
    "end_rush_hour = df_casual['ended_at'].dt.hour.mode()[0]\n",
    "print(\"The most common start hour\",start_rush_hour)\n",
    "print(\"The most common end hour\",end_rush_hour)"
   ]
  },
  {
   "cell_type": "markdown",
   "metadata": {},
   "source": [
    "---------------------\n"
   ]
  },
  {
   "cell_type": "markdown",
   "metadata": {},
   "source": [
    "## Member summary Statistics"
   ]
  },
  {
   "cell_type": "code",
   "execution_count": 117,
   "metadata": {},
   "outputs": [
    {
     "name": "stdout",
     "output_type": "stream",
     "text": [
      "The most common start stations is: Clark St & Elm St\n",
      "-----\n",
      "The most common end stations is: Clark St & Elm St\n",
      "-----\n",
      "The most common start and end stations together are : MLK Jr Dr & 29th St:State St & 33rd St\n",
      "-----\n",
      "The average ride length for casual is 17.72 minutes\n",
      "-----\n",
      "The max ride length for casual is 59 minutes\n"
     ]
    }
   ],
   "source": [
    "commont_start_station = df_member['start_station_name'].mode()[0]\n",
    "print(f\"The most common start stations is: {commont_start_station}\")\n",
    "print('-'*5)\n",
    "commont_end_station = df_member['end_station_name'].mode()[0]\n",
    "print(f\"The most common end stations is: {commont_end_station}\")\n",
    "print('-'*5)\n",
    "start_end = df_member['startName_endName'].mode()[0]\n",
    "print(f\"The most common start and end stations together are : {start_end}\")\n",
    "avg_ride_length = round(np.average(df_member['ride_length']),2)\n",
    "print('-'*5)\n",
    "max_ride_length = np.max(df_member['ride_length'])\n",
    "print(f\"The average ride length for casual is {avg_ride_length} minutes\")\n",
    "print('-'*5)\n",
    "print(f\"The max ride length for casual is {max_ride_length} minutes\")"
   ]
  },
  {
   "cell_type": "code",
   "execution_count": 118,
   "metadata": {},
   "outputs": [
    {
     "data": {
      "image/png": "[encoded data removed]",
      "text/plain": [
       "<Figure size 432x288 with 1 Axes>"
      ]
     },
     "metadata": {},
     "output_type": "display_data"
    }
   ],
   "source": [
    "#this bar graph will show us the most common month for member riders\n",
    "(df_member['month'].value_counts()/df_member.shape[0]).plot(kind='bar');\n",
    "\n"
   ]
  },
  {
   "cell_type": "code",
   "execution_count": 119,
   "metadata": {},
   "outputs": [
    {
     "data": {
      "image/png": "[encoded data removed]",
      "text/plain": [
       "<Figure size 432x288 with 1 Axes>"
      ]
     },
     "metadata": {},
     "output_type": "display_data"
    }
   ],
   "source": [
    "#this bar graph will show us the most common day for member riders\n",
    "(df_member['day_name'].value_counts()/df_member.shape[0]).plot(kind='bar');\n"
   ]
  },
  {
   "cell_type": "code",
   "execution_count": 120,
   "metadata": {},
   "outputs": [
    {
     "name": "stdout",
     "output_type": "stream",
     "text": [
      "How many different Stations in start stations 683\n",
      "How many different Stations in end stations 681\n"
     ]
    }
   ],
   "source": [
    "\n",
    "print('How many different Stations in start stations',df_member['start_station_name'].nunique())\n",
    "print('How many different Stations in end stations',df_member['end_station_name'].nunique())\n"
   ]
  },
  {
   "cell_type": "code",
   "execution_count": 121,
   "metadata": {},
   "outputs": [
    {
     "name": "stdout",
     "output_type": "stream",
     "text": [
      "start station percentage 0.49\n",
      "end station percentage 0.49\n"
     ]
    }
   ],
   "source": [
    "\n",
    "# the percentage of top 100 start stations\n",
    "print(\"start station percentage\",round(df_member['start_station_name'].value_counts().head(100).sum()/df_member.shape[0],2))\n",
    "# the percentage of top 100 end stations\n",
    "print(\"end station percentage\",round(df_member['end_station_name'].value_counts().head(100).sum()/df_member.shape[0],2))\n"
   ]
  },
  {
   "cell_type": "code",
   "execution_count": 122,
   "metadata": {},
   "outputs": [
    {
     "data": {
      "image/png": "[encoded data removed]",
      "text/plain": [
       "<Figure size 432x288 with 1 Axes>"
      ]
     },
     "metadata": {},
     "output_type": "display_data"
    }
   ],
   "source": [
    "(df_member['rideable_type'].value_counts()/df_member.shape[0]).plot(kind='bar');"
   ]
  },
  {
   "cell_type": "code",
   "execution_count": 123,
   "metadata": {},
   "outputs": [
    {
     "name": "stdout",
     "output_type": "stream",
     "text": [
      "The most common start hour 17\n",
      "The most common end hour 17\n"
     ]
    }
   ],
   "source": [
    "start_rush_hour = df_member['started_at'].dt.hour.mode()[0]\n",
    "end_rush_hour = df_member['ended_at'].dt.hour.mode()[0]\n",
    "print(\"The most common start hour\",start_rush_hour)\n",
    "print(\"The most common end hour\",end_rush_hour)"
   ]
  },
  {
   "cell_type": "code",
   "execution_count": 130,
   "metadata": {},
   "outputs": [],
   "source": [
    "# load functions will transforme the dataframe to csv fiel\n",
    "def load(data):\n",
    "    # Write your code here\n",
    "    data.to_csv(\"bikes_cleaned.csv\",index=False)"
   ]
  },
  {
   "cell_type": "code",
   "execution_count": 132,
   "metadata": {},
   "outputs": [],
   "source": [
    "load(df_bikes_2020)"
   ]
  },
  {
   "cell_type": "code",
   "execution_count": null,
   "metadata": {},
   "outputs": [],
   "source": []
  },
  {
   "cell_type": "code",
   "execution_count": null,
   "metadata": {},
   "outputs": [],
   "source": []
  }
 ],
 "metadata": {
  "kernelspec": {
   "display_name": "Python 3",
   "language": "python",
   "name": "python3"
  },
  "language_info": {
   "codemirror_mode": {
    "name": "ipython",
    "version": 3
   },
   "file_extension": ".py",
   "mimetype": "text/x-python",
   "name": "python",
   "nbconvert_exporter": "python",
   "pygments_lexer": "ipython3",
   "version": "3.8.5"
  }
 },
 "nbformat": 4,
 "nbformat_minor": 4
}
