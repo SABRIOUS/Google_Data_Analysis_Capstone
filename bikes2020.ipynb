{
 "cells": [
  {
   "cell_type": "code",
   "execution_count": 15,
   "metadata": {},
   "outputs": [],
   "source": [
    "import pandas as pd"
   ]
  },
  {
   "cell_type": "markdown",
   "metadata": {},
   "source": [
    "#### The Data is  Bike-Share Navigate\n",
    "- data contain all months in 2020\n"
   ]
  },
  {
   "cell_type": "code",
   "execution_count": 29,
   "metadata": {},
   "outputs": [],
   "source": [
    "# import all data from first month to the last month \n",
    "bikes_q1 = pd.read_csv(\"bikes_2020_1_4.csv\")\n",
    "bikes_5 = pd.read_csv(\"bikes_2020_5.csv\")\n",
    "bikes_6 = pd.read_csv(\"bikes_2020_6.csv\")\n",
    "bikes_7 = pd.read_csv(\"bikes_2020_7.csv\")\n",
    "bikes_8 = pd.read_csv(\"bikes_2020_8.csv\")\n",
    "bikes_9 = pd.read_csv(\"bikes_2020_9.csv\")\n",
    "bikes_10 = pd.read_csv(\"bikes_2020_10.csv\")\n",
    "bikes_11= pd.read_csv(\"bikes_2020_11.csv\")\n",
    "bikes_12 = pd.read_csv(\"bikes_2020_12.csv\")"
   ]
  },
  {
   "cell_type": "code",
   "execution_count": 30,
   "metadata": {},
   "outputs": [
    {
     "name": "stdout",
     "output_type": "stream",
     "text": [
      "(426887, 13)\n",
      "(200274, 13)\n",
      "(343005, 13)\n",
      "(551480, 13)\n",
      "(622361, 13)\n",
      "(532958, 13)\n",
      "(388653, 13)\n",
      "(259716, 13)\n",
      "(131573, 13)\n"
     ]
    }
   ],
   "source": [
    "# using .shape function to get the rows and columns\n",
    "print(bikes_q1.shape)\n",
    "print(bikes_5.shape)\n",
    "print(bikes_6.shape)\n",
    "print(bikes_7.shape)\n",
    "print(bikes_8.shape)\n",
    "print(bikes_9.shape)\n",
    "print(bikes_10.shape)\n",
    "print(bikes_11.shape)\n",
    "print(bikes_12.shape)"
   ]
  },
  {
   "cell_type": "code",
   "execution_count": 32,
   "metadata": {},
   "outputs": [
    {
     "name": "stdout",
     "output_type": "stream",
     "text": [
      "sum_all_rows:  3456907\n"
     ]
    }
   ],
   "source": [
    "#all column should be 3 \n",
    "#let's sum all rows \n",
    "sum_all_rows = bikes_q1.shape[0]+bikes_5.shape[0]+bikes_6.shape[0]+bikes_7.shape[0]+bikes_8.shape[0]\\\n",
    "+bikes_9.shape[0]+bikes_10.shape[0]+bikes_11.shape[0]+bikes_12.shape[0]\n",
    "print(\"sum_all_rows: \",sum_all_rows)"
   ]
  },
  {
   "cell_type": "code",
   "execution_count": 33,
   "metadata": {},
   "outputs": [],
   "source": [
    "#add all months togher\n",
    "df_bikes_2020 = bikes_q1.append(bikes_5,ignore_index=True)\n",
    "df_bikes_2020 = df_bikes_2020.append(bikes_6,ignore_index=True)\n",
    "df_bikes_2020 = df_bikes_2020.append(bikes_7,ignore_index=True)\n",
    "df_bikes_2020 = df_bikes_2020.append(bikes_8,ignore_index=True)\n",
    "df_bikes_2020 = df_bikes_2020.append(bikes_9,ignore_index=True)\n",
    "df_bikes_2020 = df_bikes_2020.append(bikes_10,ignore_index=True)\n",
    "df_bikes_2020 = df_bikes_2020.append(bikes_11,ignore_index=True)\n",
    "df_bikes_2020 = df_bikes_2020.append(bikes_12,ignore_index=True)\n"
   ]
  },
  {
   "cell_type": "code",
   "execution_count": 36,
   "metadata": {},
   "outputs": [
    {
     "name": "stdout",
     "output_type": "stream",
     "text": [
      "True\n",
      "\n",
      "IF True that's okay we did it will\n"
     ]
    }
   ],
   "source": [
    "# check if all rows equal to sum of all rows\n",
    "print(df_bikes_2020.shape[0]==sum_all_rows)\n",
    "print()\n",
    "print(\"IF True that's okay we did it will\")"
   ]
  },
  {
   "cell_type": "code",
   "execution_count": 37,
   "metadata": {},
   "outputs": [
    {
     "name": "stdout",
     "output_type": "stream",
     "text": [
      "<class 'pandas.core.frame.DataFrame'>\n",
      "RangeIndex: 3456907 entries, 0 to 3456906\n",
      "Data columns (total 13 columns):\n",
      " #   Column              Dtype  \n",
      "---  ------              -----  \n",
      " 0   ride_id             object \n",
      " 1   rideable_type       object \n",
      " 2   started_at          object \n",
      " 3   ended_at            object \n",
      " 4   start_station_name  object \n",
      " 5   start_station_id    object \n",
      " 6   end_station_name    object \n",
      " 7   end_station_id      object \n",
      " 8   start_lat           float64\n",
      " 9   start_lng           float64\n",
      " 10  end_lat             float64\n",
      " 11  end_lng             float64\n",
      " 12  member_casual       object \n",
      "dtypes: float64(4), object(9)\n",
      "memory usage: 342.9+ MB\n"
     ]
    }
   ],
   "source": [
    "#using .info to get all information about the data\n",
    "df_bikes_2020.info()"
   ]
  },
  {
   "cell_type": "code",
   "execution_count": 39,
   "metadata": {},
   "outputs": [],
   "source": [
    "# started_at ,ended_at  should be datatime needs to be converted\n",
    "df_bikes_2020['started_at'] = pd.to_datetime(df_bikes_2020['started_at'])\n",
    "df_bikes_2020['ended_at'] = pd.to_datetime(df_bikes_2020['ended_at'])\n"
   ]
  },
  {
   "cell_type": "code",
   "execution_count": 40,
   "metadata": {},
   "outputs": [
    {
     "name": "stdout",
     "output_type": "stream",
     "text": [
      "<class 'pandas.core.frame.DataFrame'>\n",
      "RangeIndex: 3456907 entries, 0 to 3456906\n",
      "Data columns (total 13 columns):\n",
      " #   Column              Dtype         \n",
      "---  ------              -----         \n",
      " 0   ride_id             object        \n",
      " 1   rideable_type       object        \n",
      " 2   started_at          datetime64[ns]\n",
      " 3   ended_at            datetime64[ns]\n",
      " 4   start_station_name  object        \n",
      " 5   start_station_id    object        \n",
      " 6   end_station_name    object        \n",
      " 7   end_station_id      object        \n",
      " 8   start_lat           float64       \n",
      " 9   start_lng           float64       \n",
      " 10  end_lat             float64       \n",
      " 11  end_lng             float64       \n",
      " 12  member_casual       object        \n",
      "dtypes: datetime64[ns](2), float64(4), object(7)\n",
      "memory usage: 342.9+ MB\n"
     ]
    }
   ],
   "source": [
    "df_bikes_2020.info()"
   ]
  },
  {
   "cell_type": "code",
   "execution_count": null,
   "metadata": {},
   "outputs": [],
   "source": []
  }
 ],
 "metadata": {
  "kernelspec": {
   "display_name": "Python 3",
   "language": "python",
   "name": "python3"
  },
  "language_info": {
   "codemirror_mode": {
    "name": "ipython",
    "version": 3
   },
   "file_extension": ".py",
   "mimetype": "text/x-python",
   "name": "python",
   "nbconvert_exporter": "python",
   "pygments_lexer": "ipython3",
   "version": "3.8.5"
  }
 },
 "nbformat": 4,
 "nbformat_minor": 4
}
